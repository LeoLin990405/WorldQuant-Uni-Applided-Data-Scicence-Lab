{
 "cells": [
  {
   "cell_type": "code",
   "execution_count": null,
   "id": "33ec8ee5",
   "metadata": {},
   "outputs": [],
   "source": [
    "#Before you start: Import the libraries you'll use in this notebook: Matplotlib, pandas, and plotly. Be sure to import them under the aliases we've used in this project.\n",
    "import matplotlib.pyplot as plt\n",
    "import pandas as pd\n",
    "import plotly.express as px\n"
   ]
  },
  {
   "cell_type": "code",
   "execution_count": null,
   "id": "f0815585",
   "metadata": {},
   "outputs": [],
   "source": [
    "#Prepare Data\n",
    "#In this assignment, you'll work with real estate data from Brazil. In the data directory for this project there are two CSV that you need to import and clean.\n",
    "\n",
    "#Import\n",
    "#Task 1.5.1: Import the CSV file data/brasil-real-estate-1.csv into the DataFrame df1.\n",
    "\n",
    "df1 = pd.read_csv('data/brasil-real-estate-1.csv')\n",
    "df1.shape\n",
    "#Before you move to the next task, take a moment to inspect df1 using the info and head methods. What issues do you see in the data? What cleaning will you need to do before you can conduct your analysis?\n",
    "\n",
    "df1.info()\n",
    "df1.head()"
   ]
  },
  {
   "cell_type": "code",
   "execution_count": null,
   "id": "da2378e0",
   "metadata": {},
   "outputs": [],
   "source": [
    "#Task 1.5.2: Drop all rows with NaN values from the DataFrame df1.\n",
    "\n",
    "df1.dropna(inplace=True)\n",
    "df1.info()\n"
   ]
  },
  {
   "cell_type": "code",
   "execution_count": null,
   "id": "8353079f",
   "metadata": {},
   "outputs": [],
   "source": [
    "#Task 1.5.3: Use the \"lat-lon\" column to create two separate columns in df1: \"lat\" and \"lon\". Make sure that the data type for these new columns is float.\n",
    "\n",
    "df1[[\"lat\",\"lon\"]]=df1['lat-lon'].str.split(',', expand=True).astype(float)\n",
    "\n",
    "df1.shape"
   ]
  },
  {
   "cell_type": "code",
   "execution_count": null,
   "id": "24f3c537",
   "metadata": {},
   "outputs": [],
   "source": [
    "#Task 1.5.4: Use the \"place_with_parent_names\" column to create a \"state\" column for df1. (Note that the state name always appears after \"|Brasil|\" in each string.)\n",
    "\n",
    "df1['state']=df1[\"place_with_parent_names\"].str.split(\"|\", expand=True)[2]\n",
    "df1.shape"
   ]
  },
  {
   "cell_type": "code",
   "execution_count": null,
   "id": "45d10f63",
   "metadata": {},
   "outputs": [],
   "source": [
    "#Task 1.5.5: Transform the \"price_usd\" column of df1 so that all values are floating-point numbers instead of strings.\n",
    "\n",
    "\n",
    "df1['price_usd']=(\n",
    "    df1['price_usd']\n",
    "    .str.replace('$',\"\",regex=False)\n",
    "    .str.replace(',','')\n",
    "    .astype(float)\n",
    ")"
   ]
  },
  {
   "cell_type": "code",
   "execution_count": null,
   "id": "6d5bb717",
   "metadata": {},
   "outputs": [],
   "source": [
    "#Task 1.5.6: Drop the \"lat-lon\" and \"place_with_parent_names\" columns from df1.\n",
    "\n",
    "df1.drop(columns=['place_with_parent_names','lat-lon'],inplace=True)"
   ]
  },
  {
   "cell_type": "code",
   "execution_count": null,
   "id": "c7e7cc28",
   "metadata": {},
   "outputs": [],
   "source": [
    "#Task 1.5.7: Import the CSV file brasil-real-estate-2.csv into the DataFrame df2.\n",
    "\n",
    "df2 =pd.read_csv('data/brasil-real-estate-2.csv')\n",
    "#Before you jump to the next task, take a look at df2 using the info and head methods. What issues do you see in the data? How is it similar or different from df1?\n",
    "\n",
    "df2.info()\n",
    "df2.head()"
   ]
  },
  {
   "cell_type": "code",
   "execution_count": null,
   "id": "de7d7e4f",
   "metadata": {},
   "outputs": [],
   "source": [
    "#Task 1.5.8: Use the \"price_brl\" column to create a new column named \"price_usd\". (Keep in mind that, when this data was collected in 2015 and 2016, a US dollar cost 3.19 Brazilian reals.)\n",
    "\n",
    "df2['price_usd']=(df2['price_brl']/3.19).round(2)"
   ]
  },
  {
   "cell_type": "code",
   "execution_count": null,
   "id": "4c38bdfa",
   "metadata": {},
   "outputs": [],
   "source": [
    "#Task 1.5.9: Drop the \"price_brl\" column from df2, as well as any rows that have NaN values.\n",
    "\n",
    "df2.drop(columns=\"price_brl\",inplace=True)\n",
    "df2.dropna(inplace=True)"
   ]
  },
  {
   "cell_type": "code",
   "execution_count": null,
   "id": "1ade6f2b",
   "metadata": {},
   "outputs": [],
   "source": [
    "#Task 1.5.10: Concatenate df1 and df2 to create a new DataFrame named df.\n",
    "\n",
    "df =pd.concat([df1,df2])\n",
    "print(\"df shape:\", df.shape)"
   ]
  },
  {
   "cell_type": "code",
   "execution_count": null,
   "id": "88dd1e81",
   "metadata": {},
   "outputs": [],
   "source": [
    "#Explore\n",
    "#It's time to start exploring your data. In this section, you'll use your new data visualization skills to learn more about the regional differences in the Brazilian real estate market.\n",
    "\n",
    "#Complete the code below to create a scatter_mapbox showing the location of the properties in df.\n",
    "\n",
    "fig = px.scatter_mapbox(\n",
    "    df,\n",
    "    lat='lat',\n",
    "    lon='lon',\n",
    "    center={\"lat\": -14.2, \"lon\": -51.9},  # Map will be centered on Brazil\n",
    "    width=600,\n",
    "    height=600,\n",
    "    hover_data=[\"price_usd\"],  # Display price when hovering mouse over house\n",
    ")\n",
    "\n",
    "fig.update_layout(mapbox_style=\"open-street-map\")\n",
    "\n",
    "fig.show()"
   ]
  },
  {
   "cell_type": "code",
   "execution_count": null,
   "id": "ac42f7a4",
   "metadata": {},
   "outputs": [],
   "source": [
    "#Task 1.5.11: Use the describe method to create a DataFrame summary_stats with the summary statistics for the \"area_m2\" and \"price_usd\" columns.\n",
    "\n",
    "summary_stats = df[['area_m2','price_usd']].describe()\n",
    "summary_stats"
   ]
  },
  {
   "cell_type": "code",
   "execution_count": null,
   "id": "7ed8fe31",
   "metadata": {},
   "outputs": [],
   "source": [
    "#Task 1.5.12: Create a histogram of \"price_usd\". Make sure that the x-axis has the label \"Price [USD]\", the y-axis has the label \"Frequency\", and the plot has the title \"Distribution of Home Prices\". Use Matplotlib (plt).\n",
    "\n",
    "# Build histogram\n",
    "plt.hist(df[\"price_usd\"])\n",
    "\n",
    "\n",
    "# Label axes\n",
    "plt.xlabel(\"Price [USD]\")\n",
    "plt.ylabel(\"Frequency\")\n",
    "# Add title\n",
    "plt.title(\"Distribution of Home Prices\")\n",
    "\n",
    "# Don't change the code below 👇\n",
    "plt.savefig(\"images/1-5-12.png\", dpi=150)\n",
    "\n",
    "# Build histogram\n",
    "plt.hist(df[\"price_usd\"])\n",
    "​\n",
    "​\n",
    "# Label axes\n",
    "plt.xlabel(\"Price [USD]\")\n",
    "plt.ylabel(\"Frequency\")\n",
    "# Add title\n",
    "plt.title(\"Distribution of Home Prices\")\n",
    "​\n",
    "# Don't change the code below 👇\n",
    "plt.savefig(\"images/1-5-12.png\", dpi=150)\n",
    "​"
   ]
  },
  {
   "cell_type": "code",
   "execution_count": null,
   "id": "1d916bfc",
   "metadata": {},
   "outputs": [],
   "source": [
    "#Task 1.5.13: Create a horizontal boxplot of \"area_m2\". Make sure that the x-axis has the label \"Area [sq meters]\" and the plot has the title \"Distribution of Home Sizes\". Use Matplotlib (plt).\n",
    "\n",
    "# Build box plot\n",
    "plt.boxplot(df[\"area_m2\"],vert=False)\n",
    "​\n",
    "​\n",
    "# Label x-axis\n",
    "plt.xlabel(\"Area [sq meters]\")\n",
    "​\n",
    "# Add title\n",
    "plt.title(\"Distribution of Home Sizes\")\n",
    "​\n",
    "# Don't change the code below 👇\n",
    "plt.savefig(\"images/1-5-13.png\", dpi=150)"
   ]
  },
  {
   "cell_type": "code",
   "execution_count": null,
   "id": "477fa94b",
   "metadata": {},
   "outputs": [],
   "source": [
    "#Task 1.5.14: Use the groupby method to create a Series named mean_price_by_region that shows the mean home price in each region in Brazil, sorted from smallest to largest.\n",
    "\n",
    "mean_price_by_region = df.groupby('region')['price_usd'].mean().sort_values()\n",
    "mean_price_by_region"
   ]
  },
  {
   "cell_type": "code",
   "execution_count": null,
   "id": "83dfe5fa",
   "metadata": {},
   "outputs": [],
   "source": [
    "#Task 1.5.15: Use mean_price_by_region to create a bar chart. Make sure you label the x-axis as \"Region\" and the y-axis as \"Mean Price [USD]\", and give the chart the title \"Mean Home Price by Region\". Use pandas.\n",
    "\n",
    "# Build bar chart, label axes, add title\n",
    "mean_price_by_region.plot( kind=\"bar\",\n",
    "    xlabel=\"Region\",\n",
    "    ylabel=\"Mean Price [USD]\",\n",
    "    title=\"Mean House Price by Region\"\n",
    ")\n",
    "\n",
    "# Don't change the code below 👇\n",
    "plt.savefig(\"images/1-5-15.png\", dpi=150)\n"
   ]
  },
  {
   "cell_type": "code",
   "execution_count": null,
   "id": "f6c19bb1",
   "metadata": {},
   "outputs": [],
   "source": [
    "#Task 1.5.16: Create a DataFrame df_south that contains all the homes from df that are in the \"South\" region.\n",
    "\n",
    "df_south =  df[df['region']=='South']\n",
    "df_south.head()"
   ]
  },
  {
   "cell_type": "code",
   "execution_count": null,
   "id": "f4deb8d4",
   "metadata": {},
   "outputs": [],
   "source": [
    "#Task 1.5.17: Use the value_counts method to create a Series homes_by_state that contains the number of properties in each state in df_south.\n",
    "\n",
    "homes_by_state = df_south['state'].value_counts()\n",
    "homes_by_state"
   ]
  },
  {
   "cell_type": "code",
   "execution_count": null,
   "id": "733946d1",
   "metadata": {},
   "outputs": [],
   "source": [
    "#Task 1.5.18: Create a scatter plot showing price vs. area for the state in df_south that has the largest number of properties. Be sure to label the x-axis \"Area [sq meters]\" and the y-axis \"Price [USD]\"; and use the title \"<name of state>: Price vs. Area\". Use Matplotlib (plt).\n",
    "\n",
    "#Tip: You should replace <name of state> with the name of the state that has the largest number of properties.\n",
    "\n",
    "# Subset data\n",
    "df_south_rgs = df[df_south['state']=='Rio Grande do Sul']\n",
    "​\n",
    "# Build scatter plot\n",
    "plt.scatter(x=df_south_rgs['area_m2'],y=df_south_rgs['price_usd'])\n",
    "​\n",
    "​\n",
    "# Label axes\n",
    "plt.xlabel(\"Area [sq meters]\")\n",
    "plt.ylabel(\"Price [USD]\")\n",
    "# Add title\n",
    "plt.title(\"Rio Grande do Sul: Price vs. Area\")\n",
    "​\n",
    "# Don't change the code below 👇\n",
    "plt.savefig(\"images/1-5-18.png\", dpi=150)"
   ]
  },
  {
   "cell_type": "code",
   "execution_count": null,
   "id": "97ee4914",
   "metadata": {},
   "outputs": [],
   "source": [
    "#Task 1.5.19: Create a dictionary south_states_corr, where the keys are the names of the three states in the \"South\" region of Brazil, and their associated values are the correlation coefficient between \"area_m2\" and \"price_usd\" in that state.\n",
    "\n",
    "#As an example, here's a dictionary with the states and correlation coefficients for the Southeast region. Since you're looking at a different region, the states and coefficients will be different, but the structure of the dictionary will be the same.\n",
    "\n",
    "#{'Espírito Santo': 0.6311332554173303,\n",
    " #'Minas Gerais': 0.5830029036378931,\n",
    " #'Rio de Janeiro': 0.4554077103515366,\n",
    " #'São Paulo': 0.45882050624839366}\n",
    "south_states_corr = df_south['area_m2'].corr(df_south['price_usd'])\n",
    "\n",
    "south_states_corr"
   ]
  }
 ],
 "metadata": {
  "kernelspec": {
   "display_name": "Python 3 (ipykernel)",
   "language": "python",
   "name": "python3"
  },
  "language_info": {
   "codemirror_mode": {
    "name": "ipython",
    "version": 3
   },
   "file_extension": ".py",
   "mimetype": "text/x-python",
   "name": "python",
   "nbconvert_exporter": "python",
   "pygments_lexer": "ipython3",
   "version": "3.9.12"
  }
 },
 "nbformat": 4,
 "nbformat_minor": 5
}
